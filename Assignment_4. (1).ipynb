{
 "cells": [
  {
   "cell_type": "markdown",
   "metadata": {},
   "source": [
    "# Q no 1: Make a list of numbers from 0 to 20 which is divisible by 2 using list comprehension"
   ]
  },
  {
   "cell_type": "code",
   "execution_count": 5,
   "metadata": {},
   "outputs": [
    {
     "name": "stdout",
     "output_type": "stream",
     "text": [
      "[0, 2, 4, 6, 8, 10, 12, 14, 16, 18, 20]\n"
     ]
    }
   ],
   "source": [
    "lst=[]\n",
    "for i in range(0,21):\n",
    "    if i % 2 == 0:\n",
    "        lst.append(i)\n",
    "print(lst)"
   ]
  },
  {
   "cell_type": "markdown",
   "metadata": {},
   "source": [
    "# Q no 2 : Find all of the numbers from 1-1000 that are divisible by 7 by making a list using list comprehension and print it"
   ]
  },
  {
   "cell_type": "code",
   "execution_count": 6,
   "metadata": {},
   "outputs": [
    {
     "name": "stdout",
     "output_type": "stream",
     "text": [
      "[0, 7, 14, 21, 28, 35, 42, 49, 56, 63, 70, 77, 84, 91, 98, 105, 112, 119, 126, 133, 140, 147, 154, 161, 168, 175, 182, 189, 196, 203, 210, 217, 224, 231, 238, 245, 252, 259, 266, 273, 280, 287, 294, 301, 308, 315, 322, 329, 336, 343, 350, 357, 364, 371, 378, 385, 392, 399, 406, 413, 420, 427, 434, 441, 448, 455, 462, 469, 476, 483, 490, 497, 504, 511, 518, 525, 532, 539, 546, 553, 560, 567, 574, 581, 588, 595, 602, 609, 616, 623, 630, 637, 644, 651, 658, 665, 672, 679, 686, 693, 700, 707, 714, 721, 728, 735, 742, 749, 756, 763, 770, 777, 784, 791, 798, 805, 812, 819, 826, 833, 840, 847, 854, 861, 868, 875, 882, 889, 896, 903, 910, 917, 924, 931, 938, 945, 952, 959, 966, 973, 980, 987, 994]\n"
     ]
    }
   ],
   "source": [
    "lst=[]\n",
    "for i in range(0,1001):\n",
    "    if i % 7 == 0:\n",
    "        lst.append(i)\n",
    "print(lst)"
   ]
  },
  {
   "cell_type": "code",
   "execution_count": null,
   "metadata": {},
   "outputs": [],
   "source": []
  },
  {
   "cell_type": "markdown",
   "metadata": {},
   "source": [
    "# Q no 3: Write a script that draws a triangle as below:"
   ]
  },
  {
   "cell_type": "raw",
   "metadata": {},
   "source": [
    "*\n",
    "**\n",
    "***\n",
    "****\n",
    "*****\n",
    "******\n",
    "*******\n",
    "********\n",
    "*********\n",
    "**********\n",
    "***********\n",
    "************"
   ]
  },
  {
   "cell_type": "code",
   "execution_count": 30,
   "metadata": {},
   "outputs": [
    {
     "name": "stdout",
     "output_type": "stream",
     "text": [
      "*\n",
      "**\n",
      "***\n",
      "****\n",
      "*****\n",
      "******\n",
      "*******\n",
      "********\n",
      "*********\n",
      "**********\n",
      "***********\n",
      "************\n"
     ]
    }
   ],
   "source": [
    "for i in range(0,12):\n",
    "    for j in range(0,i+1):\n",
    "        print(\"*\",end='')\n",
    "    print()"
   ]
  },
  {
   "cell_type": "markdown",
   "metadata": {},
   "source": [
    "# Q no 4 : Write a script that draws a geometric shape as below:"
   ]
  },
  {
   "cell_type": "raw",
   "metadata": {},
   "source": [
    "*\n",
    "**\n",
    "***\n",
    "****\n",
    "*****\n",
    "******\n",
    "*******\n",
    "******\n",
    "*****\n",
    "****\n",
    "***\n",
    "**\n",
    "*"
   ]
  },
  {
   "cell_type": "code",
   "execution_count": 28,
   "metadata": {},
   "outputs": [
    {
     "name": "stdout",
     "output_type": "stream",
     "text": [
      "*\n",
      "**\n",
      "***\n",
      "****\n",
      "*****\n",
      "******\n",
      "*******\n",
      "******\n",
      "*****\n",
      "****\n",
      "***\n",
      "**\n",
      "*\n"
     ]
    }
   ],
   "source": [
    "for i in range(7):\n",
    "    for j in range(7):\n",
    "        if i>=j:\n",
    "            print(\"*\",end=\"\")\n",
    "            \n",
    "    print()\n",
    "    \n",
    "for i in range(6):\n",
    "    for j in range(6):\n",
    "        if -i>=-j:\n",
    "            print(\"*\",end=\"\")\n",
    "            \n",
    "    print()\n",
    "    "
   ]
  },
  {
   "cell_type": "markdown",
   "metadata": {},
   "source": [
    "# Q no :5  A simple Python function to check \n",
    "# whether x is even or odd "
   ]
  },
  {
   "cell_type": "code",
   "execution_count": 42,
   "metadata": {},
   "outputs": [
    {
     "name": "stdout",
     "output_type": "stream",
     "text": [
      "Enter a number:3\n",
      "Number is odd\n"
     ]
    }
   ],
   "source": [
    "x=int(input(\"Enter a number:\"))\n",
    "if x%2==0:\n",
    "    print(\"Number us even\")\n",
    "else:\n",
    "    print(\"Number is odd\")"
   ]
  },
  {
   "cell_type": "markdown",
   "metadata": {},
   "source": [
    "# Q no: 6 Define a function that can accept two strings as input and print the string with maximum length in console. If two strings have the same length, then the function should print al l strings line by line.\n",
    "\n",
    "Hints:\n",
    "\n",
    "Use len() function to get the length of a string\n"
   ]
  },
  {
   "cell_type": "code",
   "execution_count": 48,
   "metadata": {},
   "outputs": [
    {
     "name": "stdout",
     "output_type": "stream",
     "text": [
      "Enter first name:Osama\n",
      "Enter second name:Nisar\n",
      "Both String Length are parallel or same\n"
     ]
    }
   ],
   "source": [
    "#for equal string\n",
    "Name_1=str(input(\"Enter first name:\"))\n",
    "Name_2=str(input(\"Enter second name:\"))\n",
    "def chkLengthString(Name_1,Name_2):\n",
    "    if len(Name_1)>len(Name_2):\n",
    "        print(\"First name is greater then second name\")\n",
    "    elif len(Name_1)<len(Name_2):\n",
    "        print(\"First name is less then second name\")\n",
    "    else:\n",
    "        print(\"Both String Length are parallel or same\")\n",
    "chkLengthString(Name_1,Name_2)"
   ]
  },
  {
   "cell_type": "code",
   "execution_count": 49,
   "metadata": {},
   "outputs": [
    {
     "name": "stdout",
     "output_type": "stream",
     "text": [
      "Enter first name:Ahmed\n",
      "Enter second name:Ali\n",
      "First name is greater then second name\n"
     ]
    }
   ],
   "source": [
    "#when first string is greater the second!\n",
    "Name_1=str(input(\"Enter first name:\"))\n",
    "Name_2=str(input(\"Enter second name:\"))\n",
    "def chkLengthString(Name_1,Name_2):\n",
    "    if len(Name_1)>len(Name_2):\n",
    "        print(\"First name is greater then second name\")\n",
    "    elif len(Name_1)<len(Name_2):\n",
    "        print(\"First name is less then second name\")\n",
    "    else:\n",
    "        print(\"Both String Length are parallel or same\")\n",
    "chkLengthString(Name_1,Name_2)"
   ]
  },
  {
   "cell_type": "code",
   "execution_count": 50,
   "metadata": {},
   "outputs": [
    {
     "name": "stdout",
     "output_type": "stream",
     "text": [
      "Enter first name:Ali\n",
      "Enter second name:Imran\n",
      "First name is less then second name\n"
     ]
    }
   ],
   "source": [
    "#when first string is less then second!\n",
    "Name_1=str(input(\"Enter first name:\"))\n",
    "Name_2=str(input(\"Enter second name:\"))\n",
    "def chkLengthString(Name_1,Name_2):\n",
    "    if len(Name_1)>len(Name_2):\n",
    "        print(\"First name is greater then second name\")\n",
    "    elif len(Name_1)<len(Name_2):\n",
    "        print(\"First name is less then second name\")\n",
    "    else:\n",
    "        print(\"Both String Length are parallel or same\")\n",
    "chkLengthString(Name_1,Name_2)"
   ]
  },
  {
   "cell_type": "markdown",
   "metadata": {},
   "source": [
    "# Q no  7:  Define a function that can accept an integer number as input and print the  \n",
    "It is an even number\" \n",
    "\n",
    "if the number is even,\n",
    "\n",
    "otherwise print \"It is an odd number\".\n",
    "\n",
    "\n",
    "\n",
    "\n",
    "Hints:\n",
    "\n",
    "Use % operator to check if a number is even or odd.\n"
   ]
  },
  {
   "cell_type": "code",
   "execution_count": 54,
   "metadata": {},
   "outputs": [
    {
     "name": "stdout",
     "output_type": "stream",
     "text": [
      "Enter a number:64\n",
      "It is an even number\n"
     ]
    }
   ],
   "source": [
    "x=int(input(\"Enter a number:\"))\n",
    "def chkEven_Odd(x):\n",
    "    if x%2==0:\n",
    "        print(\"It is an even number\")\n",
    "    else:\n",
    "        print(\"It is an odd number\")\n",
    "chkEven_Odd(x)"
   ]
  }
 ],
 "metadata": {
  "kernelspec": {
   "display_name": "Python 3",
   "language": "python",
   "name": "python3"
  },
  "language_info": {
   "codemirror_mode": {
    "name": "ipython",
    "version": 3
   },
   "file_extension": ".py",
   "mimetype": "text/x-python",
   "name": "python",
   "nbconvert_exporter": "python",
   "pygments_lexer": "ipython3",
   "version": "3.6.5"
  }
 },
 "nbformat": 4,
 "nbformat_minor": 2
}
